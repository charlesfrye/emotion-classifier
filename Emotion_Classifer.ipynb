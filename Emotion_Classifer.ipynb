{
  "nbformat": 4,
  "nbformat_minor": 0,
  "metadata": {
    "colab": {
      "name": "Emotion Classifer.ipynb",
      "provenance": [],
      "private_outputs": true,
      "collapsed_sections": [],
      "include_colab_link": true
    },
    "kernelspec": {
      "name": "python3",
      "display_name": "Python 3"
    },
    "accelerator": "GPU"
  },
  "cells": [
    {
      "cell_type": "markdown",
      "metadata": {
        "id": "view-in-github",
        "colab_type": "text"
      },
      "source": [
        "<a href=\"https://colab.research.google.com/github/charlesfrye/emotion-classifier/blob/main/Emotion_Classifer.ipynb\" target=\"_parent\"><img src=\"https://colab.research.google.com/assets/colab-badge.svg\" alt=\"Open In Colab\"/></a>"
      ]
    },
    {
      "cell_type": "markdown",
      "metadata": {
        "id": "83pM76LxfXP8"
      },
      "source": [
        "# Training an emotion classifier with Keras\n",
        "\n",
        "In this tutorial we'll train an emotion classifier and deploy it to a tensorflow js frontend.  The first step is setting up the environment."
      ]
    },
    {
      "cell_type": "code",
      "metadata": {
        "id": "716z63DMfWoq"
      },
      "source": [
        "# Install wandb\n",
        "%pip install -qq wandb"
      ],
      "execution_count": null,
      "outputs": []
    },
    {
      "cell_type": "code",
      "metadata": {
        "id": "UdQHTvMTfs1c"
      },
      "source": [
        "#import libraries\n",
        "import warnings\n",
        "warnings.filterwarnings('ignore')\n",
        "import pandas as pd\n",
        "import numpy as np\n",
        "import cv2\n",
        "import subprocess\n",
        "import os\n",
        "import time\n",
        "import wandb\n",
        "\n",
        "tensorflow_in_main = False"
      ],
      "execution_count": null,
      "outputs": []
    },
    {
      "cell_type": "markdown",
      "metadata": {
        "id": "m6vgqwva0PKy"
      },
      "source": [
        "## Load the fer2013 grayscale face emotion dataset\n",
        "\n",
        "https://www.kaggle.com/c/challenges-in-representation-learning-facial-expression-recognition-challenge/data\n",
        "\n",
        "We manually do an 80/20 train-test split and cache the data to disk."
      ]
    },
    {
      "cell_type": "code",
      "metadata": {
        "id": "ujDGNN-FgNBa"
      },
      "source": [
        "def load_fer2013(force=False):\n",
        "    \"\"\"Load the emotion dataset\"\"\"\n",
        "    if force or not os.path.exists(\"fer2013\"):\n",
        "        print(\"Downloading the face emotion dataset...\")\n",
        "        subprocess.check_output(\n",
        "            \"curl -SL https://www.dropbox.com/s/opuvvdv3uligypx/fer2013.tar | tar xz\", shell=True)\n",
        "    print(\"Loading dataset...\")\n",
        "    if not os.path.exists('face_cache.npz'):\n",
        "        data = pd.read_csv(\"fer2013/fer2013.csv\")\n",
        "        pixels = data['pixels'].tolist()\n",
        "        width, height = 48, 48\n",
        "        faces = []\n",
        "        for pixel_sequence in pixels:\n",
        "            pixs = pixel_sequence.split(' ')\n",
        "            try:\n",
        "                face = np.asarray(pixel_sequence.split(\n",
        "                    ' '), dtype=np.uint8).reshape(width, height)\n",
        "                face = cv2.resize(face.astype('uint8'), (width, height))\n",
        "                faces.append(face.astype('float32'))\n",
        "            except ValueError:\n",
        "              print(\"Unable to load face.\")\n",
        "\n",
        "        faces = np.asarray(faces)\n",
        "        faces = np.expand_dims(faces, -1)\n",
        "        emotions = pd.get_dummies(data['emotion']).to_numpy()\n",
        "\n",
        "        val_faces = faces[int(len(faces) * 0.8):]\n",
        "        val_emotions = emotions[int(len(faces) * 0.8):]\n",
        "        train_faces = faces[:int(len(faces) * 0.8)]\n",
        "        train_emotions = emotions[:int(len(faces) * 0.8)]\n",
        "        np.savez('face_cache.npz', train_faces=train_faces, train_emotions=train_emotions,\n",
        "                 val_faces=val_faces, val_emotions=val_emotions)\n",
        "    cached = np.load('face_cache.npz')\n",
        "\n",
        "    return cached['train_faces'], cached['train_emotions'], cached['val_faces'], cached['val_emotions']"
      ],
      "execution_count": null,
      "outputs": []
    },
    {
      "cell_type": "markdown",
      "metadata": {
        "id": "ihedxZW-364Y"
      },
      "source": [
        "# Deep Learning\n",
        "\n",
        "We define a train() function with default inputs.  In the second cell we manually call training and convert the keras model into a tensorflow js model."
      ]
    },
    {
      "cell_type": "code",
      "metadata": {
        "id": "u-E_wuM4gR9e"
      },
      "source": [
        "# Set default hyperparameters\n",
        "default_config = {\n",
        "    \"learning_rate\": 0.001,\n",
        "    \"batch_size\": 32,\n",
        "    \"num_epochs\": 20,\n",
        "    \"dropout\": 0.2\n",
        "}\n",
        "\n",
        "def train(config=default_config):\n",
        "  \"\"\"Train an emotion classifier using wandb.config as input\"\"\"\n",
        "  import tensorflow as tf\n",
        "  import wandb\n",
        "  tf.keras.backend.clear_session()\n",
        "\n",
        "  tensorflow_in_main = True\n",
        "\n",
        "  # Inititialize W&B with default config options\n",
        "  wandb.init(entity=\"wandb\", project=\"emotion\", config=config)\n",
        "  config = wandb.config\n",
        "  print(dict(config))\n",
        "  \n",
        "  # Load dataset\n",
        "  input_shape = (48, 48, 1)\n",
        "  train_faces, train_emotions, val_faces, val_emotions = load_fer2013()\n",
        "  num_samples, num_classes = train_emotions.shape\n",
        "  \n",
        "  # Normalize data\n",
        "  train_faces /= 255.\n",
        "  val_faces /= 255.\n",
        "  \n",
        "  # Define the model\n",
        "  optimizer = tf.keras.optimizers.Adam(learning_rate=config.learning_rate)\n",
        "\n",
        "  model = tf.keras.Sequential()\n",
        "  model.add(tf.keras.layers.Flatten(input_shape=input_shape))\n",
        "  model.add(tf.keras.layers.Dense(128, activation=\"relu\"))\n",
        "  model.add(tf.keras.layers.Dropout(0.4))\n",
        "  model.add(tf.keras.layers.Dense(num_classes, activation=\"softmax\"))\n",
        "  model.compile(optimizer=optimizer, loss='categorical_crossentropy',\n",
        "                metrics=['accuracy'])\n",
        "\n",
        "  # Save extra metadata\n",
        "  config.total_params = model.count_params()\n",
        "    \n",
        "  # Train the model\n",
        "  model.fit(train_faces, train_emotions, batch_size=config.batch_size,\n",
        "            epochs=config.num_epochs, verbose=1, callbacks=[\n",
        "                wandb.keras.WandbCallback(data_type=\"image\", labels=[\n",
        "                              \"Angry\", \"Disgust\", \"Fear\", \"Happy\", \"Sad\", \"Surprise\", \"Neutral\"])\n",
        "            ], validation_data=(val_faces, val_emotions))\n",
        "\n",
        "  # Save the model locally\n",
        "  model.save(\"emotion.h5\")"
      ],
      "execution_count": null,
      "outputs": []
    },
    {
      "cell_type": "code",
      "metadata": {
        "id": "Ndvq2qYv66Ot"
      },
      "source": [
        "# Train the model\n",
        "train()"
      ],
      "execution_count": null,
      "outputs": []
    },
    {
      "cell_type": "markdown",
      "metadata": {
        "id": "yRbQA5Zw55Yr"
      },
      "source": [
        "# Setup & serve the frontend\n",
        "\n",
        "We're downloading and serving a pre-built React application from [github](https://github.com/vanpelt/emotion-detector)"
      ]
    },
    {
      "cell_type": "code",
      "metadata": {
        "id": "UhAYYxTzo9vA"
      },
      "source": [
        "# Download the frontend build\n",
        "!rm -rf build\n",
        "!wget -q https://github.com/vanpelt/emotion-detector/releases/download/stable/frontend.zip\n",
        "!unzip -q frontend.zip"
      ],
      "execution_count": null,
      "outputs": []
    },
    {
      "cell_type": "code",
      "metadata": {
        "id": "6IMdxcE3aRZF"
      },
      "source": [
        "# Install tensorflowjs in a virtualenv\n",
        "%pip install -q virtualenv\n",
        "!virtualenv venv && . venv/bin/activate && pip install -q tensorflowjs"
      ],
      "execution_count": null,
      "outputs": []
    },
    {
      "cell_type": "code",
      "metadata": {
        "id": "qBYv-QDl2f4G"
      },
      "source": [
        "# Quantize our trained model\n",
        "!. venv/bin/activate && tensorflowjs_converter --input_format keras --quantization_bytes 2 emotion.h5 build/models"
      ],
      "execution_count": null,
      "outputs": []
    },
    {
      "cell_type": "code",
      "metadata": {
        "id": "hRpqPdPQp1OK"
      },
      "source": [
        "# Serve our custom UI\n",
        "from subprocess import Popen\n",
        "import portpicker\n",
        "try:\n",
        "  server.kill()\n",
        "except NameError:\n",
        "  pass\n",
        "port = portpicker.pick_unused_port()\n",
        "server = Popen([\"cd ./build && python -m http.server %i\" % port], shell=True,\n",
        "               stdin=None, stdout=None, stderr=None, close_fds=True)"
      ],
      "execution_count": null,
      "outputs": []
    },
    {
      "cell_type": "code",
      "metadata": {
        "id": "H3kHfhxpj3PE"
      },
      "source": [
        "#Setup the interface for display\n",
        "import IPython\n",
        "html = open(\"./build/index.html\").read()\n",
        "body = html.replace('=\"/', '=\"https://localhost:{}/'.format(port),10)\n",
        "body = body.replace(\"</head>\", '<script type=\"text/javascript\"/>window.BASE_URL = \"https://localhost:{}/\";google.colab.output.setIframeHeight(600)</script></head>'.format(port))\n",
        "display(IPython.display.HTML(body))"
      ],
      "execution_count": null,
      "outputs": []
    },
    {
      "cell_type": "markdown",
      "metadata": {
        "id": "I3PkvBxc0onw"
      },
      "source": [
        "# Hyper Parameter Sweeps\n",
        "\n",
        "Full documentation [here](https://docs.wandb.com/library/sweeps/python-api).  \n",
        "\n",
        "*WARNING* if you've run the train method in the main thread you must click \"Restart runtime\" before running a sweep.  Unfortunately tensorflow is only fork safe if it was never run in the main process.\n"
      ]
    },
    {
      "cell_type": "code",
      "metadata": {
        "id": "pHpGJx5nJrRJ"
      },
      "source": [
        "assert not tensorflow_in_main, \"reset runtime before running a sweep!\"\n",
        "\n",
        "# Configure the sweep\n",
        "sweep_config = {\n",
        "  \"name\": \"Simple grid search\",\n",
        "  \"method\": \"grid\",\n",
        "  \"parameters\": {\n",
        "        \"learning_rate\": {\n",
        "            \"values\": [0.001, 0.003, 0.005]\n",
        "        },\n",
        "        \"batch_size\": {\n",
        "            \"values\": [32, 64, 128]\n",
        "        },\n",
        "        \"dropout\": {\n",
        "            \"values\": [0.2, 0.3, 0.4]\n",
        "        },\n",
        "        \"hidden_layer_size\": {\n",
        "            \"values\": [128, 256, 512]\n",
        "        }\n",
        "    }\n",
        "}\n",
        "\n",
        "wandb.reset_env()\n",
        "sweep_id = wandb.sweep(sweep_config, project=\"emotion\", entity=\"wandb\")"
      ],
      "execution_count": null,
      "outputs": []
    },
    {
      "cell_type": "code",
      "metadata": {
        "id": "g50PeIRq16RK"
      },
      "source": [
        "# Run an agent with our training function\n",
        "wandb.agent(sweep_id, function=train)"
      ],
      "execution_count": null,
      "outputs": []
    },
    {
      "cell_type": "markdown",
      "metadata": {
        "id": "bql72gmVpWK9"
      },
      "source": [
        "# Consuming sweep results\n",
        "\n",
        "After the sweep has completed we can query for the best run and download it's weights."
      ]
    },
    {
      "cell_type": "code",
      "metadata": {
        "id": "YjUhar18fQWK"
      },
      "source": [
        "api = wandb.Api()\n",
        "sweep = api.sweep(f\"wandb/emotion/{sweep_id}\")\n",
        "runs = sorted(sweep.runs, key=lambda run: run.summary.get(\"val_acc\", 0), reverse=True)\n",
        "val_acc = runs[0].summary.get(\"val_acc\", 0)\n",
        "print(f\"Best run {runs[0].name} with {val_acc}% validation accuracy\")\n",
        "runs[0].file(\"model-best.h5\").download(replace=True)\n",
        "print(\"Best model saved to model-best.h5\")"
      ],
      "execution_count": null,
      "outputs": []
    }
  ]
}